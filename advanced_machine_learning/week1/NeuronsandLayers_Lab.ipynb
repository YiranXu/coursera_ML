{
 "cells": [
  {
   "cell_type": "code",
   "execution_count": 1,
   "id": "a9f57f09",
   "metadata": {},
   "outputs": [],
   "source": [
    "import numpy as np\n",
    "import matplotlib.pyplot as plt\n",
    "import tensorflow as tf\n",
    "from tensorflow.keras.layers import Dense, Input\n",
    "from tensorflow.keras import Sequential\n",
    "from tensorflow.keras.losses import MeanSquaredError, BinaryCrossentropy\n",
    "from tensorflow.keras.activations import sigmoid"
   ]
  },
  {
   "cell_type": "code",
   "execution_count": 79,
   "id": "c56bd030",
   "metadata": {},
   "outputs": [],
   "source": [
    "dlc = dict(dlblue = '#0096ff', dlorange = '#FF9300', dldarkred='#C00000', dlmagenta='#FF40FF', dlpurple='#7030A0', dldarkblue =  '#0D5BDC')\n",
    "dlblue = '#0096ff'; dlorange = '#FF9300'; dldarkred='#C00000'; dlmagenta='#FF40FF'; dlpurple='#7030A0'; dldarkblue =  '#0D5BDC'\n",
    "dlcolors = [dlblue, dlorange, dldarkred, dlmagenta, dlpurple]"
   ]
  },
  {
   "cell_type": "code",
   "execution_count": 77,
   "id": "7a16fff1",
   "metadata": {},
   "outputs": [],
   "source": [
    "def plt_linear(X_train, Y_train, prediction_tf, prediction_np):\n",
    "    fig, ax = plt.subplots(1,2, figsize=(16,4))\n",
    "    ax[0].scatter(X_train, Y_train, marker='x', c='r', label=\"Data Points\")\n",
    "    ax[0].plot(X_train, prediction_tf,  c=dlc['dlblue'], label=\"model output\")\n",
    "    ax[0].text(1.6,350,r\"y=$200 x + 100$\", fontsize='xx-large', color=dlc['dlmagenta'])\n",
    "    ax[0].legend(fontsize='xx-large')\n",
    "    ax[0].set_ylabel('Price (in 1000s of dollars)', fontsize='xx-large')\n",
    "    ax[0].set_xlabel('Size (1000 sqft)', fontsize='xx-large')\n",
    "    ax[0].set_title(\"Tensorflow prediction\",fontsize='xx-large')\n",
    "\n",
    "    ax[1].scatter(X_train, Y_train, marker='x', c='r', label=\"Data Points\")\n",
    "    ax[1].plot(X_train, prediction_np,  c=dlc['dlblue'], label=\"model output\")\n",
    "    ax[1].text(1.6,350,r\"y=$200 x + 100$\", fontsize='xx-large', color=dlc['dlmagenta'])\n",
    "    ax[1].legend(fontsize='xx-large')\n",
    "    ax[1].set_ylabel('Price (in 1000s of dollars)', fontsize='xx-large')\n",
    "    ax[1].set_xlabel('Size (1000 sqft)', fontsize='xx-large')\n",
    "    ax[1].set_title(\"Numpy prediction\",fontsize='xx-large')\n",
    "    plt.show()"
   ]
  },
  {
   "cell_type": "markdown",
   "id": "2800c594",
   "metadata": {},
   "source": [
    "## Neuron without activation - Regression/Linear Model"
   ]
  },
  {
   "cell_type": "markdown",
   "id": "031b56b8",
   "metadata": {},
   "source": [
    "### dataset\n",
    "We'll use an example from Course 1, linear regression on house prices."
   ]
  },
  {
   "cell_type": "code",
   "execution_count": 17,
   "id": "c8736b2e",
   "metadata": {},
   "outputs": [],
   "source": [
    "X_train=np.array([[1.0], [2.0]],dtype=np.float32)  #(size in 1000 square feet)\n",
    "Y_train = np.array([[300.0], [500.0]], dtype=np.float32)       #(price in 1000s of dollars)"
   ]
  },
  {
   "cell_type": "code",
   "execution_count": 27,
   "id": "6094ca2c",
   "metadata": {},
   "outputs": [
    {
     "data": {
      "image/png": "[encoded data removed]",
      "text/plain": [
       "<Figure size 432x288 with 1 Axes>"
      ]
     },
     "metadata": {
      "needs_background": "light"
     },
     "output_type": "display_data"
    }
   ],
   "source": [
    "fig=plt.scatter(X_train,Y_train,marker='x', c='r', label=\"Data Points\")\n",
    "plt.legend( fontsize='xx-large')\n",
    "_=plt.xlabel('Size (1000 sqft)',fontsize='xx-large')\n",
    "_=plt.ylabel('Price (in 1000s of dollars)',fontsize='xx-large')\n",
    "plt.show()"
   ]
  },
  {
   "cell_type": "markdown",
   "id": "e9bf209e",
   "metadata": {},
   "source": [
    "### Regression/Linear Model\n",
    "\n",
    "The function implemented by a neuron with no activation is the same as in Course 1, linear regression.We can define a layer with one neuron or unit and compare it to the familiar linear regression function."
   ]
  },
  {
   "cell_type": "code",
   "execution_count": 68,
   "id": "06395144",
   "metadata": {},
   "outputs": [
    {
     "data": {
      "text/plain": [
       "[]"
      ]
     },
     "execution_count": 68,
     "metadata": {},
     "output_type": "execute_result"
    }
   ],
   "source": [
    "linear_layer=tf.keras.layers.Dense(units=1,activation='linear')\n",
    "linear_layer.get_weights()"
   ]
  },
  {
   "cell_type": "markdown",
   "id": "fd4286a8",
   "metadata": {},
   "source": [
    "There are no weights as the weights are not yet instantiated. Let's try the model on one example in X_train. This will trigger the instantiation of the weights. Note, the input to the layer must be 2-D, so we'll reshape it."
   ]
  },
  {
   "cell_type": "code",
   "execution_count": 69,
   "id": "00091900",
   "metadata": {},
   "outputs": [],
   "source": [
    "a1 =linear_layer(X_train)  #"
   ]
  },
  {
   "cell_type": "code",
   "execution_count": 70,
   "id": "40616999",
   "metadata": {},
   "outputs": [
    {
     "name": "stdout",
     "output_type": "stream",
     "text": [
      "tf.Tensor(\n",
      "[[-0.65196824]\n",
      " [-1.3039365 ]], shape=(2, 1), dtype=float32)\n"
     ]
    }
   ],
   "source": [
    "print(a1)"
   ]
  },
  {
   "cell_type": "code",
   "execution_count": 71,
   "id": "9b606e9c",
   "metadata": {},
   "outputs": [
    {
     "name": "stdout",
     "output_type": "stream",
     "text": [
      "w = [[-0.65196824]], b=[0.]\n"
     ]
    }
   ],
   "source": [
    "w, b= linear_layer.get_weights()\n",
    "print(f\"w = {w}, b={b}\")"
   ]
  },
  {
   "cell_type": "markdown",
   "id": "201ba0b2",
   "metadata": {},
   "source": [
    "A linear regression model (1) with a single input feature will have a single weight and bias. This matches the dimensions of our linear_layer above.\n",
    "\n",
    "The weights are initialized to random values so let's set them to some known values."
   ]
  },
  {
   "cell_type": "code",
   "execution_count": 72,
   "id": "136e59c4",
   "metadata": {},
   "outputs": [
    {
     "name": "stdout",
     "output_type": "stream",
     "text": [
      "[array([[200.]], dtype=float32), array([100.], dtype=float32)]\n"
     ]
    }
   ],
   "source": [
    "set_w=np.array([[200]]) #note the shape should be (1,1)\n",
    "set_b=np.array([100])\n",
    "\n",
    "linear_layer.set_weights([set_w,set_b])\n",
    "print(linear_layer.get_weights())"
   ]
  },
  {
   "cell_type": "markdown",
   "id": "5ac6234d",
   "metadata": {},
   "source": [
    "Let's compare equation (1) to the layer output."
   ]
  },
  {
   "cell_type": "code",
   "execution_count": 75,
   "id": "ecdfd24c",
   "metadata": {},
   "outputs": [
    {
     "data": {
      "text/plain": [
       "array([[300.]])"
      ]
     },
     "execution_count": 75,
     "metadata": {},
     "output_type": "execute_result"
    }
   ],
   "source": [
    "np.dot(set_w,X_train[0].reshape(1,1))+set_b"
   ]
  },
  {
   "cell_type": "code",
   "execution_count": null,
   "id": "5f1ff63c",
   "metadata": {},
   "outputs": [],
   "source": [
    "alin = np.dot(set_w,X_train[0].reshape(1,1)) + set_b\n",
    "print(alin)"
   ]
  },
  {
   "cell_type": "code",
   "execution_count": 76,
   "id": "51bfbf1a",
   "metadata": {},
   "outputs": [],
   "source": [
    "prediction_tf = linear_layer(X_train)\n",
    "prediction_np = np.dot( X_train, set_w) + set_b"
   ]
  },
  {
   "cell_type": "code",
   "execution_count": 80,
   "id": "f370b2f8",
   "metadata": {},
   "outputs": [
    {
     "data": {
      "image/png": "[encoded data removed]",
      "text/plain": [
       "<Figure size 1152x288 with 2 Axes>"
      ]
     },
     "metadata": {
      "needs_background": "light"
     },
     "output_type": "display_data"
    }
   ],
   "source": [
    "plt_linear(X_train, Y_train, prediction_tf, prediction_np)"
   ]
  },
  {
   "cell_type": "markdown",
   "id": "ffa3514d",
   "metadata": {},
   "source": [
    "## Neuron with Sigmoid activation\n",
    "The function implemented by a neuron/unit with a sigmoid activation is the same as in Course 1, logistic regression"
   ]
  },
  {
   "cell_type": "code",
   "execution_count": 89,
   "id": "a809d785",
   "metadata": {},
   "outputs": [],
   "source": [
    "X_train=np.array([0,1,2,3,4,5],dtype=np.float32).reshape(-1,1)"
   ]
  },
  {
   "cell_type": "code",
   "execution_count": 90,
   "id": "dd2992e5",
   "metadata": {},
   "outputs": [],
   "source": [
    "Y_train=np.array([0,0,0,1,1,1],dtype=np.float32).reshape(-1,1)"
   ]
  },
  {
   "cell_type": "code",
   "execution_count": 91,
   "id": "d40a09ad",
   "metadata": {},
   "outputs": [
    {
     "data": {
      "text/plain": [
       "array([3., 4., 5.], dtype=float32)"
      ]
     },
     "execution_count": 91,
     "metadata": {},
     "output_type": "execute_result"
    }
   ],
   "source": [
    "pos = Y_train == 1\n",
    "neg = Y_train == 0\n",
    "X_train[pos]"
   ]
  },
  {
   "cell_type": "code",
   "execution_count": 93,
   "id": "772fad22",
   "metadata": {},
   "outputs": [
    {
     "data": {
      "text/plain": [
       "array([[False],\n",
       "       [False],\n",
       "       [False],\n",
       "       [ True],\n",
       "       [ True],\n",
       "       [ True]])"
      ]
     },
     "execution_count": 93,
     "metadata": {},
     "output_type": "execute_result"
    }
   ],
   "source": [
    "Y_train == 1"
   ]
  },
  {
   "cell_type": "code",
   "execution_count": 110,
   "id": "bf95c1eb",
   "metadata": {},
   "outputs": [
    {
     "data": {
      "image/png": "[encoded data removed]",
      "text/plain": [
       "<Figure size 432x288 with 1 Axes>"
      ]
     },
     "metadata": {
      "needs_background": "light"
     },
     "output_type": "display_data"
    }
   ],
   "source": [
    "_=plt.scatter(X_train[pos],Y_train[pos],marker='x', s=80, c = 'red', label=\"y=1\")\n",
    "_=plt.scatter(X_train[neg], Y_train[neg], marker='o', s=100, label=\"y=0\", facecolors='none', \n",
    "              edgecolors=dlc[\"dlblue\"],lw=3)\n",
    "_=plt.ylim(-0.1,1.1)\n",
    "_=plt.legend(fontsize=12)\n",
    "_=plt.ylabel('y', fontsize=12)\n",
    "_=plt.xlabel('x', fontsize=12)\n",
    "_=plt.title('one variable plot')\n",
    "plt.show()"
   ]
  },
  {
   "cell_type": "markdown",
   "id": "870b5df0",
   "metadata": {},
   "source": [
    "Logistic Neuron\n",
    "\n",
    "We can implement a 'logistic neuron' by adding a sigmoid activation. The function of the neuron is then described by (2) above.\n",
    "This section will create a Tensorflow Model that contains our logistic layer to demonstrate an alternate method of creating models. Tensorflow is most often used to create multi-layer models. The Sequential model is a convenient means of constructing these models."
   ]
  },
  {
   "cell_type": "code",
   "execution_count": 115,
   "id": "e20aa333",
   "metadata": {},
   "outputs": [],
   "source": [
    "model=Sequential(\n",
    "[\n",
    "    tf.keras.layers.Dense(units=1,input_dim=1,activation='sigmoid',name='L1')\n",
    "]\n",
    ")"
   ]
  },
  {
   "cell_type": "markdown",
   "id": "eaad4bb6",
   "metadata": {},
   "source": [
    "model.summary() shows the layers and number of parameters in the model. There is only one layer in this model and that layer has only one unit. The unit has two parameters, \n",
    "w\n",
    " and \n",
    "b\n",
    "."
   ]
  },
  {
   "cell_type": "code",
   "execution_count": 116,
   "id": "6ec98d6f",
   "metadata": {},
   "outputs": [
    {
     "name": "stdout",
     "output_type": "stream",
     "text": [
      "Model: \"sequential_2\"\n",
      "_________________________________________________________________\n",
      " Layer (type)                Output Shape              Param #   \n",
      "=================================================================\n",
      " L1 (Dense)                  (None, 1)                 2         \n",
      "                                                                 \n",
      "=================================================================\n",
      "Total params: 2\n",
      "Trainable params: 2\n",
      "Non-trainable params: 0\n",
      "_________________________________________________________________\n"
     ]
    }
   ],
   "source": [
    "model.summary()"
   ]
  },
  {
   "cell_type": "code",
   "execution_count": 117,
   "id": "69c9b054",
   "metadata": {},
   "outputs": [
    {
     "name": "stdout",
     "output_type": "stream",
     "text": [
      "[[-0.65196824]] [0.]\n",
      "(1, 1) (1,)\n"
     ]
    }
   ],
   "source": [
    "logistic_layer=model.get_layer('L1')\n",
    "w,b=logistic_layer.get_weights()\n",
    "print(w,b)\n",
    "print(w.shape,b.shape)"
   ]
  },
  {
   "cell_type": "markdown",
   "id": "75369733",
   "metadata": {},
   "source": [
    "Let's set the weight and bias to some known values."
   ]
  },
  {
   "cell_type": "code",
   "execution_count": 119,
   "id": "e174b767",
   "metadata": {},
   "outputs": [
    {
     "name": "stdout",
     "output_type": "stream",
     "text": [
      "[array([[2.]], dtype=float32), array([-4.5], dtype=float32)]\n"
     ]
    }
   ],
   "source": [
    "set_w=np.array([[2]])\n",
    "set_b=np.array([-4.5])\n",
    "# set_weights takes a list of numpy arrays\n",
    "logistic_layer.set_weights([set_w,set_b])\n",
    "print(logistic_layer.get_weights())"
   ]
  },
  {
   "cell_type": "markdown",
   "id": "2dcd75d0",
   "metadata": {},
   "source": [
    "Let's compare equation (2) to the layer output."
   ]
  },
  {
   "cell_type": "code",
   "execution_count": 120,
   "id": "3ffe5e07",
   "metadata": {},
   "outputs": [],
   "source": [
    "def sigmoidnp(z):\n",
    "    \"\"\"\n",
    "    Compute the sigmoid of z\n",
    "\n",
    "    Parameters\n",
    "    ----------\n",
    "    z : array_like\n",
    "        A scalar or numpy array of any size.\n",
    "\n",
    "    Returns\n",
    "    -------\n",
    "     g : array_like\n",
    "         sigmoid(z)\n",
    "    \"\"\"\n",
    "    z = np.clip( z, -500, 500 )           # protect against overflow\n",
    "    g = 1.0/(1.0+np.exp(-z))\n",
    "\n",
    "    return g"
   ]
  },
  {
   "cell_type": "code",
   "execution_count": 121,
   "id": "f6be4c8c",
   "metadata": {},
   "outputs": [
    {
     "name": "stderr",
     "output_type": "stream",
     "text": [
      "2022-07-14 18:51:15.314877: W tensorflow/core/platform/profile_utils/cpu_utils.cc:128] Failed to get CPU frequency: 0 Hz\n",
      "2022-07-14 18:51:16.008612: I tensorflow/core/grappler/optimizers/custom_graph_optimizer_registry.cc:113] Plugin optimizer for device_type GPU is enabled.\n"
     ]
    },
    {
     "name": "stdout",
     "output_type": "stream",
     "text": [
      "1/1 [==============================] - 1s 986ms/step\n",
      "[[0.01098694]]\n",
      "[[0.01098694]]\n"
     ]
    }
   ],
   "source": [
    "a1=model.predict(X_train[0].reshape(1,1))\n",
    "print(a1)\n",
    "alog=sigmoidnp(np.dot(set_w,X_train[0].reshape(1,1))+set_b)\n",
    "print(alog)"
   ]
  },
  {
   "cell_type": "markdown",
   "id": "264f5f79",
   "metadata": {},
   "source": [
    "They produce the same values! Now, we can use our logistic layer and NumPy model to make predictions on our training data."
   ]
  },
  {
   "cell_type": "markdown",
   "id": "5a30b346",
   "metadata": {},
   "source": [
    "Congratulations!\n",
    "\n",
    "You built a very simple neural network and have explored the similarities of a neuron to the linear and logistic regression from Course 1."
   ]
  },
  {
   "cell_type": "code",
   "execution_count": null,
   "id": "aef8a050",
   "metadata": {},
   "outputs": [],
   "source": []
  }
 ],
 "metadata": {
  "kernelspec": {
   "display_name": "tf26",
   "language": "python",
   "name": "tf26"
  },
  "language_info": {
   "codemirror_mode": {
    "name": "ipython",
    "version": 3
   },
   "file_extension": ".py",
   "mimetype": "text/x-python",
   "name": "python",
   "nbconvert_exporter": "python",
   "pygments_lexer": "ipython3",
   "version": "3.9.0"
  }
 },
 "nbformat": 4,
 "nbformat_minor": 5
}
